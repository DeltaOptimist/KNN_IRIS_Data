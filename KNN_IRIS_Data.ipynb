{
  "nbformat": 4,
  "nbformat_minor": 0,
  "metadata": {
    "colab": {
      "name": "KNN_IRIS_Data.ipynb",
      "provenance": []
    },
    "kernelspec": {
      "name": "python3",
      "display_name": "Python 3"
    },
    "language_info": {
      "name": "python"
    }
  },
  "cells": [
    {
      "cell_type": "code",
      "metadata": {
        "id": "FnQbLr3SE8lO"
      },
      "source": [
        "import numpy as np\n",
        "import matplotlib.pyplot as plt\n",
        "import pandas as pd"
      ],
      "execution_count": 38,
      "outputs": []
    },
    {
      "cell_type": "code",
      "metadata": {
        "id": "eQa1hR_DFBrt"
      },
      "source": [
        "url = \"https://archive.ics.uci.edu/ml/machine-learning-databases/iris/iris.data\"\n",
        "\n",
        "# Assign colum names to the dataset\n",
        "names = ['sepal-length', 'sepal-width', 'petal-length', 'petal-width', 'Class']\n",
        "\n",
        "# Read dataset to pandas dataframe\n",
        "dataset = pd.read_csv(url, names=names)"
      ],
      "execution_count": 39,
      "outputs": []
    },
    {
      "cell_type": "code",
      "metadata": {
        "colab": {
          "base_uri": "https://localhost:8080/",
          "height": 206
        },
        "id": "HxVwnh_VFEuV",
        "outputId": "9f362192-259e-4b90-9f74-f7f68cfc419d"
      },
      "source": [
        "dataset.head()"
      ],
      "execution_count": 40,
      "outputs": [
        {
          "output_type": "execute_result",
          "data": {
            "text/html": [
              "<div>\n",
              "<style scoped>\n",
              "    .dataframe tbody tr th:only-of-type {\n",
              "        vertical-align: middle;\n",
              "    }\n",
              "\n",
              "    .dataframe tbody tr th {\n",
              "        vertical-align: top;\n",
              "    }\n",
              "\n",
              "    .dataframe thead th {\n",
              "        text-align: right;\n",
              "    }\n",
              "</style>\n",
              "<table border=\"1\" class=\"dataframe\">\n",
              "  <thead>\n",
              "    <tr style=\"text-align: right;\">\n",
              "      <th></th>\n",
              "      <th>sepal-length</th>\n",
              "      <th>sepal-width</th>\n",
              "      <th>petal-length</th>\n",
              "      <th>petal-width</th>\n",
              "      <th>Class</th>\n",
              "    </tr>\n",
              "  </thead>\n",
              "  <tbody>\n",
              "    <tr>\n",
              "      <th>0</th>\n",
              "      <td>5.1</td>\n",
              "      <td>3.5</td>\n",
              "      <td>1.4</td>\n",
              "      <td>0.2</td>\n",
              "      <td>Iris-setosa</td>\n",
              "    </tr>\n",
              "    <tr>\n",
              "      <th>1</th>\n",
              "      <td>4.9</td>\n",
              "      <td>3.0</td>\n",
              "      <td>1.4</td>\n",
              "      <td>0.2</td>\n",
              "      <td>Iris-setosa</td>\n",
              "    </tr>\n",
              "    <tr>\n",
              "      <th>2</th>\n",
              "      <td>4.7</td>\n",
              "      <td>3.2</td>\n",
              "      <td>1.3</td>\n",
              "      <td>0.2</td>\n",
              "      <td>Iris-setosa</td>\n",
              "    </tr>\n",
              "    <tr>\n",
              "      <th>3</th>\n",
              "      <td>4.6</td>\n",
              "      <td>3.1</td>\n",
              "      <td>1.5</td>\n",
              "      <td>0.2</td>\n",
              "      <td>Iris-setosa</td>\n",
              "    </tr>\n",
              "    <tr>\n",
              "      <th>4</th>\n",
              "      <td>5.0</td>\n",
              "      <td>3.6</td>\n",
              "      <td>1.4</td>\n",
              "      <td>0.2</td>\n",
              "      <td>Iris-setosa</td>\n",
              "    </tr>\n",
              "  </tbody>\n",
              "</table>\n",
              "</div>"
            ],
            "text/plain": [
              "   sepal-length  sepal-width  petal-length  petal-width        Class\n",
              "0           5.1          3.5           1.4          0.2  Iris-setosa\n",
              "1           4.9          3.0           1.4          0.2  Iris-setosa\n",
              "2           4.7          3.2           1.3          0.2  Iris-setosa\n",
              "3           4.6          3.1           1.5          0.2  Iris-setosa\n",
              "4           5.0          3.6           1.4          0.2  Iris-setosa"
            ]
          },
          "metadata": {},
          "execution_count": 40
        }
      ]
    },
    {
      "cell_type": "code",
      "metadata": {
        "colab": {
          "base_uri": "https://localhost:8080/"
        },
        "id": "IKY66wGMFNnX",
        "outputId": "92226c85-7ae5-4f22-b190-c294e3d854ab"
      },
      "source": [
        "dataset.info()"
      ],
      "execution_count": 41,
      "outputs": [
        {
          "output_type": "stream",
          "name": "stdout",
          "text": [
            "<class 'pandas.core.frame.DataFrame'>\n",
            "RangeIndex: 150 entries, 0 to 149\n",
            "Data columns (total 5 columns):\n",
            " #   Column        Non-Null Count  Dtype  \n",
            "---  ------        --------------  -----  \n",
            " 0   sepal-length  150 non-null    float64\n",
            " 1   sepal-width   150 non-null    float64\n",
            " 2   petal-length  150 non-null    float64\n",
            " 3   petal-width   150 non-null    float64\n",
            " 4   Class         150 non-null    object \n",
            "dtypes: float64(4), object(1)\n",
            "memory usage: 6.0+ KB\n"
          ]
        }
      ]
    },
    {
      "cell_type": "code",
      "metadata": {
        "colab": {
          "base_uri": "https://localhost:8080/",
          "height": 300
        },
        "id": "lsQC09MJFQid",
        "outputId": "5d9b50b7-e345-4ae0-a55f-fe4891b7e764"
      },
      "source": [
        "dataset.describe()"
      ],
      "execution_count": 42,
      "outputs": [
        {
          "output_type": "execute_result",
          "data": {
            "text/html": [
              "<div>\n",
              "<style scoped>\n",
              "    .dataframe tbody tr th:only-of-type {\n",
              "        vertical-align: middle;\n",
              "    }\n",
              "\n",
              "    .dataframe tbody tr th {\n",
              "        vertical-align: top;\n",
              "    }\n",
              "\n",
              "    .dataframe thead th {\n",
              "        text-align: right;\n",
              "    }\n",
              "</style>\n",
              "<table border=\"1\" class=\"dataframe\">\n",
              "  <thead>\n",
              "    <tr style=\"text-align: right;\">\n",
              "      <th></th>\n",
              "      <th>sepal-length</th>\n",
              "      <th>sepal-width</th>\n",
              "      <th>petal-length</th>\n",
              "      <th>petal-width</th>\n",
              "    </tr>\n",
              "  </thead>\n",
              "  <tbody>\n",
              "    <tr>\n",
              "      <th>count</th>\n",
              "      <td>150.000000</td>\n",
              "      <td>150.000000</td>\n",
              "      <td>150.000000</td>\n",
              "      <td>150.000000</td>\n",
              "    </tr>\n",
              "    <tr>\n",
              "      <th>mean</th>\n",
              "      <td>5.843333</td>\n",
              "      <td>3.054000</td>\n",
              "      <td>3.758667</td>\n",
              "      <td>1.198667</td>\n",
              "    </tr>\n",
              "    <tr>\n",
              "      <th>std</th>\n",
              "      <td>0.828066</td>\n",
              "      <td>0.433594</td>\n",
              "      <td>1.764420</td>\n",
              "      <td>0.763161</td>\n",
              "    </tr>\n",
              "    <tr>\n",
              "      <th>min</th>\n",
              "      <td>4.300000</td>\n",
              "      <td>2.000000</td>\n",
              "      <td>1.000000</td>\n",
              "      <td>0.100000</td>\n",
              "    </tr>\n",
              "    <tr>\n",
              "      <th>25%</th>\n",
              "      <td>5.100000</td>\n",
              "      <td>2.800000</td>\n",
              "      <td>1.600000</td>\n",
              "      <td>0.300000</td>\n",
              "    </tr>\n",
              "    <tr>\n",
              "      <th>50%</th>\n",
              "      <td>5.800000</td>\n",
              "      <td>3.000000</td>\n",
              "      <td>4.350000</td>\n",
              "      <td>1.300000</td>\n",
              "    </tr>\n",
              "    <tr>\n",
              "      <th>75%</th>\n",
              "      <td>6.400000</td>\n",
              "      <td>3.300000</td>\n",
              "      <td>5.100000</td>\n",
              "      <td>1.800000</td>\n",
              "    </tr>\n",
              "    <tr>\n",
              "      <th>max</th>\n",
              "      <td>7.900000</td>\n",
              "      <td>4.400000</td>\n",
              "      <td>6.900000</td>\n",
              "      <td>2.500000</td>\n",
              "    </tr>\n",
              "  </tbody>\n",
              "</table>\n",
              "</div>"
            ],
            "text/plain": [
              "       sepal-length  sepal-width  petal-length  petal-width\n",
              "count    150.000000   150.000000    150.000000   150.000000\n",
              "mean       5.843333     3.054000      3.758667     1.198667\n",
              "std        0.828066     0.433594      1.764420     0.763161\n",
              "min        4.300000     2.000000      1.000000     0.100000\n",
              "25%        5.100000     2.800000      1.600000     0.300000\n",
              "50%        5.800000     3.000000      4.350000     1.300000\n",
              "75%        6.400000     3.300000      5.100000     1.800000\n",
              "max        7.900000     4.400000      6.900000     2.500000"
            ]
          },
          "metadata": {},
          "execution_count": 42
        }
      ]
    },
    {
      "cell_type": "code",
      "metadata": {
        "colab": {
          "base_uri": "https://localhost:8080/"
        },
        "id": "Qw5yFrwsFUhS",
        "outputId": "2abbaa60-be18-4f58-f70a-eb44e40391ce"
      },
      "source": [
        "dataset.isnull().sum()"
      ],
      "execution_count": 43,
      "outputs": [
        {
          "output_type": "execute_result",
          "data": {
            "text/plain": [
              "sepal-length    0\n",
              "sepal-width     0\n",
              "petal-length    0\n",
              "petal-width     0\n",
              "Class           0\n",
              "dtype: int64"
            ]
          },
          "metadata": {},
          "execution_count": 43
        }
      ]
    },
    {
      "cell_type": "code",
      "metadata": {
        "id": "gVCffhL2FH5M"
      },
      "source": [
        "X = dataset.iloc[:, :-1].values\n",
        "y = dataset.iloc[:, 4].values"
      ],
      "execution_count": 44,
      "outputs": []
    },
    {
      "cell_type": "markdown",
      "metadata": {
        "id": "Kh0BkFsjFdby"
      },
      "source": [
        "The X variable contains the first four columns of the dataset (i.e. attributes) while y contains the labels."
      ]
    },
    {
      "cell_type": "markdown",
      "metadata": {
        "id": "Wi2KIwfHFgSq"
      },
      "source": [
        "Train Test Split"
      ]
    },
    {
      "cell_type": "code",
      "metadata": {
        "id": "V4vbP9_yFMmW"
      },
      "source": [
        "from sklearn.model_selection import train_test_split\n",
        "\n",
        "X_train, X_test, y_train, y_test = train_test_split(X, y, test_size=0.20)"
      ],
      "execution_count": 45,
      "outputs": []
    },
    {
      "cell_type": "markdown",
      "metadata": {
        "id": "8I0CP2pYFpWy"
      },
      "source": [
        "Feature Scaling"
      ]
    },
    {
      "cell_type": "code",
      "metadata": {
        "id": "8Jf80qc5FlAM"
      },
      "source": [
        "from sklearn.preprocessing import StandardScaler\n",
        "\n",
        "scaler = StandardScaler()\n",
        "scaler.fit(X_train)\n",
        "\n",
        "X_train = scaler.transform(X_train)\n",
        "X_test = scaler.transform(X_test)"
      ],
      "execution_count": 46,
      "outputs": []
    },
    {
      "cell_type": "code",
      "metadata": {
        "colab": {
          "base_uri": "https://localhost:8080/"
        },
        "id": "C7t37hggF1Gi",
        "outputId": "7adbef75-e204-494a-e293-e2f2ae4e04cf"
      },
      "source": [
        "X_train"
      ],
      "execution_count": 47,
      "outputs": [
        {
          "output_type": "execute_result",
          "data": {
            "text/plain": [
              "array([[-0.39871148,  1.08700609, -1.40772509, -1.30672051],\n",
              "       [-0.28028233, -0.13664054,  0.17738091,  0.12708753],\n",
              "       [-0.87242809,  1.82119407, -1.29450323, -1.17637432],\n",
              "       [ 0.90400919, -0.38136987,  0.46043555,  0.12708753],\n",
              "       [-1.10928639,  0.10808879, -1.29450323, -1.43706669],\n",
              "       [-0.04342402, -0.87082852,  0.74349019,  0.90916464],\n",
              "       [-1.583003  , -1.84974582, -1.40772509, -1.17637432],\n",
              "       [-0.75399893,  2.55538205, -1.29450323, -1.43706669],\n",
              "       [ 0.19343428, -0.13664054,  0.57365741,  0.77881846],\n",
              "       [-1.70143215,  0.35281811, -1.40772509, -1.30672051],\n",
              "       [-0.28028233, -0.13664054,  0.40382462,  0.3877799 ],\n",
              "       [-0.99085724, -0.13664054, -1.2378923 , -1.30672051],\n",
              "       [ 0.19343428, -2.09447515,  0.68687927,  0.3877799 ],\n",
              "       [ 0.19343428, -0.38136987,  0.40382462,  0.3877799 ],\n",
              "       [-0.04342402, -0.87082852,  0.17738091, -0.26395103],\n",
              "       [-1.22771554,  0.10808879, -1.2378923 , -1.30672051],\n",
              "       [ 1.25929665,  0.10808879,  0.74349019,  1.43054938],\n",
              "       [-0.87242809,  1.82119407, -1.06805952, -1.04602814],\n",
              "       [-0.39871148, -1.84974582,  0.12076998,  0.12708753],\n",
              "       [ 1.49615495, -0.13664054,  1.19637762,  1.16985701],\n",
              "       [ 1.02243834,  0.10808879,  0.51704648,  0.3877799 ],\n",
              "       [-0.99085724,  1.08700609, -1.40772509, -1.17637432],\n",
              "       [-0.99085724, -2.5839338 , -0.16228466, -0.26395103],\n",
              "       [-0.75399893,  0.84227676, -1.35111416, -1.30672051],\n",
              "       [ 1.6145841 ,  1.33173542,  1.30959948,  1.69124175],\n",
              "       [-0.63556978,  1.57646474, -1.29450323, -1.30672051],\n",
              "       [ 1.02243834,  0.59754744,  1.08315577,  1.69124175],\n",
              "       [ 0.31186343, -0.38136987,  0.51704648,  0.25743372],\n",
              "       [-1.22771554, -0.13664054, -1.35111416, -1.43706669],\n",
              "       [ 2.44358817,  1.82119407,  1.47943226,  1.03951083],\n",
              "       [-1.46457384,  0.84227676, -1.35111416, -1.17637432],\n",
              "       [ 0.54872174, -0.87082852,  0.63026834,  0.77881846],\n",
              "       [-1.10928639, -1.36028717,  0.40382462,  0.64847227],\n",
              "       [-0.99085724,  1.08700609, -1.2378923 , -0.78533577],\n",
              "       [ 1.73301326, -0.38136987,  1.42282134,  0.77881846],\n",
              "       [-0.99085724,  0.84227676, -1.2378923 , -1.04602814],\n",
              "       [-1.22771554,  0.84227676, -1.2378923 , -1.30672051],\n",
              "       [-0.16185317, -1.11555785, -0.16228466, -0.26395103],\n",
              "       [-0.51714063,  2.0659234 , -1.40772509, -1.04602814],\n",
              "       [-0.87242809,  0.59754744, -1.18128137, -0.91568195],\n",
              "       [-1.8198613 , -0.13664054, -1.52094695, -1.43706669],\n",
              "       [ 0.54872174,  0.59754744,  1.25298855,  1.69124175],\n",
              "       [ 1.02243834, -0.13664054,  0.80010112,  1.43054938],\n",
              "       [-1.34614469,  0.35281811, -1.40772509, -1.30672051],\n",
              "       [ 1.6145841 , -0.13664054,  1.13976669,  0.51812609],\n",
              "       [ 0.43029259,  0.84227676,  0.91332298,  1.43054938],\n",
              "       [ 1.02243834,  0.59754744,  1.08315577,  1.16985701],\n",
              "       [-0.75399893, -0.87082852,  0.06415905,  0.25743372],\n",
              "       [-0.39871148, -1.36028717,  0.12076998,  0.12708753],\n",
              "       [ 0.78558004, -0.62609919,  0.46043555,  0.3877799 ],\n",
              "       [-0.51714063, -0.13664054,  0.40382462,  0.3877799 ],\n",
              "       [ 1.6145841 ,  0.35281811,  1.25298855,  0.77881846],\n",
              "       [-0.51714063,  1.57646474, -1.29450323, -1.30672051],\n",
              "       [ 1.85144241, -0.62609919,  1.30959948,  0.90916464],\n",
              "       [ 0.31186343, -0.62609919,  0.12076998,  0.12708753],\n",
              "       [-0.16185317, -1.36028717,  0.68687927,  1.03951083],\n",
              "       [-0.16185317, -0.13664054,  0.23399184, -0.00325865],\n",
              "       [-1.46457384,  0.35281811, -1.35111416, -1.30672051],\n",
              "       [-1.10928639,  0.10808879, -1.29450323, -1.43706669],\n",
              "       [ 1.02243834, -1.36028717,  1.13976669,  0.77881846],\n",
              "       [ 1.25929665,  0.10808879,  0.91332298,  1.16985701],\n",
              "       [ 0.78558004, -0.13664054,  0.96993391,  0.77881846],\n",
              "       [ 0.31186343, -0.13664054,  0.46043555,  0.25743372],\n",
              "       [-0.04342402, -0.87082852,  0.06415905, -0.00325865],\n",
              "       [ 0.66715089,  0.35281811,  0.85671205,  1.43054938],\n",
              "       [-0.16185317, -0.62609919,  0.40382462,  0.12708753],\n",
              "       [ 0.66715089, -0.87082852,  0.85671205,  0.90916464],\n",
              "       [-0.39871148, -1.6050165 ,  0.00754812, -0.13360484],\n",
              "       [ 0.43029259, -0.38136987,  0.29060277,  0.12708753],\n",
              "       [-0.75399893,  1.08700609, -1.29450323, -1.30672051],\n",
              "       [ 0.78558004, -0.13664054,  0.80010112,  1.03951083],\n",
              "       [-0.99085724,  1.33173542, -1.35111416, -1.30672051],\n",
              "       [ 0.54872174,  0.84227676,  1.02654484,  1.56089557],\n",
              "       [ 1.1408675 , -0.62609919,  0.57365741,  0.25743372],\n",
              "       [ 0.66715089, -0.38136987,  0.29060277,  0.12708753],\n",
              "       [ 0.31186343, -1.11555785,  1.02654484,  0.25743372],\n",
              "       [ 0.19343428,  0.84227676,  0.40382462,  0.51812609],\n",
              "       [-0.87242809,  1.57646474, -1.29450323, -1.04602814],\n",
              "       [ 2.20672986,  1.82119407,  1.64926505,  1.3002032 ],\n",
              "       [ 0.66715089,  0.10808879,  0.96993391,  0.77881846],\n",
              "       [-0.99085724, -1.84974582, -0.27550652, -0.26395103],\n",
              "       [ 2.20672986, -1.11555785,  1.76248691,  1.43054938],\n",
              "       [ 0.54872174, -1.36028717,  0.63026834,  0.3877799 ],\n",
              "       [-0.87242809,  1.82119407, -1.2378923 , -1.30672051],\n",
              "       [ 0.19343428, -0.87082852,  0.74349019,  0.51812609],\n",
              "       [ 0.43029259, -0.62609919,  0.57365741,  0.77881846],\n",
              "       [-0.99085724,  0.84227676, -1.29450323, -1.30672051],\n",
              "       [-1.10928639, -0.13664054, -1.35111416, -1.30672051],\n",
              "       [-0.28028233, -0.62609919,  0.63026834,  1.03951083],\n",
              "       [ 1.3777258 ,  0.35281811,  0.51704648,  0.25743372],\n",
              "       [-1.22771554,  0.84227676, -1.06805952, -1.30672051],\n",
              "       [-1.10928639,  0.10808879, -1.29450323, -1.43706669],\n",
              "       [-1.46457384,  0.10808879, -1.29450323, -1.30672051],\n",
              "       [-1.70143215, -0.38136987, -1.35111416, -1.30672051],\n",
              "       [ 0.66715089, -0.62609919,  1.02654484,  1.3002032 ],\n",
              "       [-0.87242809,  0.84227676, -1.29450323, -1.30672051],\n",
              "       [-0.39871148,  2.80011138, -1.35111416, -1.30672051],\n",
              "       [-0.87242809, -1.36028717, -0.4453393 , -0.13360484],\n",
              "       [ 0.54872174,  0.59754744,  0.51704648,  0.51812609],\n",
              "       [ 0.54872174, -0.38136987,  1.02654484,  0.77881846],\n",
              "       [ 0.54872174, -0.62609919,  0.74349019,  0.3877799 ],\n",
              "       [-0.99085724,  0.59754744, -1.35111416, -1.30672051],\n",
              "       [-0.28028233, -0.38136987, -0.10567373,  0.12708753],\n",
              "       [ 0.90400919, -0.13664054,  0.34721369,  0.25743372],\n",
              "       [-0.87242809,  1.08700609, -1.35111416, -1.30672051],\n",
              "       [ 1.25929665,  0.35281811,  1.08315577,  1.43054938],\n",
              "       [ 2.08830071, -0.13664054,  1.59265412,  1.16985701],\n",
              "       [ 0.66715089, -0.62609919,  1.02654484,  1.16985701],\n",
              "       [ 1.1408675 ,  0.35281811,  1.19637762,  1.43054938],\n",
              "       [-1.34614469,  0.35281811, -1.2378923 , -1.30672051],\n",
              "       [ 0.54872174, -1.84974582,  0.34721369,  0.12708753],\n",
              "       [-0.04342402, -0.87082852,  0.74349019,  0.90916464],\n",
              "       [ 0.66715089,  0.35281811,  0.40382462,  0.3877799 ],\n",
              "       [-0.39871148, -1.11555785,  0.34721369, -0.00325865],\n",
              "       [ 2.20672986, -0.13664054,  1.30959948,  1.43054938],\n",
              "       [-0.04342402, -1.11555785,  0.12076998, -0.00325865],\n",
              "       [-0.51714063,  0.84227676, -1.18128137, -1.30672051],\n",
              "       [ 0.07500513, -0.13664054,  0.23399184,  0.3877799 ],\n",
              "       [-0.16185317, -0.38136987,  0.23399184,  0.12708753],\n",
              "       [ 0.07500513,  0.35281811,  0.57365741,  0.77881846]])"
            ]
          },
          "metadata": {},
          "execution_count": 47
        }
      ]
    },
    {
      "cell_type": "code",
      "metadata": {
        "colab": {
          "base_uri": "https://localhost:8080/"
        },
        "id": "L6pPJArzF3lR",
        "outputId": "7956fb67-7811-48ef-ae87-2cd172f09448"
      },
      "source": [
        "X_test"
      ],
      "execution_count": 48,
      "outputs": [
        {
          "output_type": "execute_result",
          "data": {
            "text/plain": [
              "array([[-2.80282326e-01, -8.70828519e-01,  2.33991838e-01,\n",
              "         1.27087531e-01],\n",
              "       [-1.70143215e+00, -1.36640541e-01, -1.40772509e+00,\n",
              "        -1.30672051e+00],\n",
              "       [-4.34240223e-02, -6.26099193e-01,  7.43490194e-01,\n",
              "         1.56089557e+00],\n",
              "       [ 1.02243834e+00,  1.08088786e-01,  3.47213695e-01,\n",
              "         2.57433716e-01],\n",
              "       [ 3.11863433e-01, -1.36640541e-01,  6.30268337e-01,\n",
              "         7.78818457e-01],\n",
              "       [-1.61853174e-01,  3.28957003e+00, -1.29450323e+00,\n",
              "        -1.04602814e+00],\n",
              "       [-1.61853174e-01,  1.82119407e+00, -1.18128137e+00,\n",
              "        -1.17637432e+00],\n",
              "       [ 1.25929665e+00,  1.08088786e-01,  6.30268337e-01,\n",
              "         3.87779901e-01],\n",
              "       [ 1.14086750e+00, -1.36640541e-01,  9.69933908e-01,\n",
              "         1.16985701e+00],\n",
              "       [-1.10928639e+00, -1.60501650e+00, -2.75506519e-01,\n",
              "        -2.63951025e-01],\n",
              "       [ 3.11863433e-01, -6.26099193e-01,  5.17046480e-01,\n",
              "        -3.25865463e-03],\n",
              "       [-5.17140630e-01,  2.06592340e+00, -1.18128137e+00,\n",
              "        -1.04602814e+00],\n",
              "       [-3.98711478e-01, -1.60501650e+00, -4.90628047e-02,\n",
              "        -2.63951025e-01],\n",
              "       [ 5.48721737e-01, -1.36028717e+00,  6.86879266e-01,\n",
              "         9.09164643e-01],\n",
              "       [-8.72428085e-01,  1.08700609e+00, -1.35111416e+00,\n",
              "        -1.17637432e+00],\n",
              "       [ 2.20672986e+00, -6.26099193e-01,  1.64926505e+00,\n",
              "         1.03951083e+00],\n",
              "       [-4.34240223e-02,  2.31065272e+00, -1.46433602e+00,\n",
              "        -1.30672051e+00],\n",
              "       [ 1.02243834e+00, -1.36640541e-01,  6.86879266e-01,\n",
              "         6.48472272e-01],\n",
              "       [ 7.85580041e-01, -1.36640541e-01,  1.13976669e+00,\n",
              "         1.30020320e+00],\n",
              "       [-5.17140630e-01,  8.42276765e-01, -1.29450323e+00,\n",
              "        -1.04602814e+00],\n",
              "       [ 1.02243834e+00,  1.08088786e-01,  1.02654484e+00,\n",
              "         1.56089557e+00],\n",
              "       [-1.61853174e-01, -6.26099193e-01,  1.77380909e-01,\n",
              "         1.27087531e-01],\n",
              "       [ 1.93434281e-01, -2.09447515e+00,  1.20769981e-01,\n",
              "        -2.63951025e-01],\n",
              "       [-9.90857237e-01,  3.52818112e-01, -1.46433602e+00,\n",
              "        -1.30672051e+00],\n",
              "       [ 4.30292585e-01, -2.09447515e+00,  4.03824623e-01,\n",
              "         3.87779901e-01],\n",
              "       [ 7.50051295e-02, -1.36640541e-01,  7.43490194e-01,\n",
              "         7.78818457e-01],\n",
              "       [-1.46457384e+00,  1.33173542e+00, -1.57755787e+00,\n",
              "        -1.30672051e+00],\n",
              "       [ 7.85580041e-01,  3.52818112e-01,  7.43490194e-01,\n",
              "         1.03951083e+00],\n",
              "       [-2.80282326e-01, -1.36028717e+00,  6.41590523e-02,\n",
              "        -1.33604840e-01],\n",
              "       [-1.22771554e+00, -1.36640541e-01, -1.35111416e+00,\n",
              "        -1.17637432e+00]])"
            ]
          },
          "metadata": {},
          "execution_count": 48
        }
      ]
    },
    {
      "cell_type": "markdown",
      "metadata": {
        "id": "WzKqfHn4GL47"
      },
      "source": [
        "Training and Predictions"
      ]
    },
    {
      "cell_type": "code",
      "metadata": {
        "colab": {
          "base_uri": "https://localhost:8080/"
        },
        "id": "8d5VsWZJF5Js",
        "outputId": "2739fceb-0332-4d57-a341-4ac44742462a"
      },
      "source": [
        "from sklearn.neighbors import KNeighborsClassifier\n",
        "\n",
        "classifier = KNeighborsClassifier(n_neighbors=5)\n",
        "classifier.fit(X_train, y_train)"
      ],
      "execution_count": 49,
      "outputs": [
        {
          "output_type": "execute_result",
          "data": {
            "text/plain": [
              "KNeighborsClassifier(algorithm='auto', leaf_size=30, metric='minkowski',\n",
              "                     metric_params=None, n_jobs=None, n_neighbors=5, p=2,\n",
              "                     weights='uniform')"
            ]
          },
          "metadata": {},
          "execution_count": 49
        }
      ]
    },
    {
      "cell_type": "markdown",
      "metadata": {
        "id": "jSnXCEYHGF_C"
      },
      "source": [
        "The first step is to import the KNeighborsClassifier class from the sklearn.neighbors library.\n",
        "\n",
        "In the second line, this class is initialized with one parameter, i.e. n_neigbours. \n",
        "\n",
        "This is basically the value for the K. \n",
        "\n",
        "There is no ideal value for K and it is selected after testing and evaluation, however to start out, 5 seems to be the most commonly used value for KNN algorithm."
      ]
    },
    {
      "cell_type": "markdown",
      "metadata": {
        "id": "0UDiuVV3GPPj"
      },
      "source": [
        "The final step is to make predictions on our test data."
      ]
    },
    {
      "cell_type": "code",
      "metadata": {
        "id": "TrfWwZR1F70H"
      },
      "source": [
        "y_pred = classifier.predict(X_test)"
      ],
      "execution_count": 50,
      "outputs": []
    },
    {
      "cell_type": "code",
      "metadata": {
        "colab": {
          "base_uri": "https://localhost:8080/"
        },
        "id": "KBzRftaNGQ8l",
        "outputId": "57d8311c-5847-441b-8383-d048920c834b"
      },
      "source": [
        "y_pred"
      ],
      "execution_count": 51,
      "outputs": [
        {
          "output_type": "execute_result",
          "data": {
            "text/plain": [
              "array(['Iris-versicolor', 'Iris-setosa', 'Iris-virginica',\n",
              "       'Iris-versicolor', 'Iris-virginica', 'Iris-setosa', 'Iris-setosa',\n",
              "       'Iris-versicolor', 'Iris-virginica', 'Iris-versicolor',\n",
              "       'Iris-versicolor', 'Iris-setosa', 'Iris-versicolor',\n",
              "       'Iris-virginica', 'Iris-setosa', 'Iris-virginica', 'Iris-setosa',\n",
              "       'Iris-virginica', 'Iris-virginica', 'Iris-setosa',\n",
              "       'Iris-virginica', 'Iris-versicolor', 'Iris-versicolor',\n",
              "       'Iris-setosa', 'Iris-versicolor', 'Iris-versicolor', 'Iris-setosa',\n",
              "       'Iris-virginica', 'Iris-versicolor', 'Iris-setosa'], dtype=object)"
            ]
          },
          "metadata": {},
          "execution_count": 51
        }
      ]
    },
    {
      "cell_type": "markdown",
      "metadata": {
        "id": "tSyloN0iGVvi"
      },
      "source": [
        "Evaluating the Algorithm"
      ]
    },
    {
      "cell_type": "code",
      "metadata": {
        "colab": {
          "base_uri": "https://localhost:8080/"
        },
        "id": "f0U4ZjdZGVki",
        "outputId": "7d6b8a78-0b78-4b14-8693-dda986cbbf4f"
      },
      "source": [
        "from sklearn.metrics import classification_report, confusion_matrix\n",
        "\n",
        "print(confusion_matrix(y_test, y_pred))\n",
        "print()\n",
        "print(\"*****************************************************************\")\n",
        "print()\n",
        "print(classification_report(y_test, y_pred))"
      ],
      "execution_count": 52,
      "outputs": [
        {
          "output_type": "stream",
          "name": "stdout",
          "text": [
            "[[10  0  0]\n",
            " [ 0 10  1]\n",
            " [ 0  1  8]]\n",
            "\n",
            "*****************************************************************\n",
            "\n",
            "                 precision    recall  f1-score   support\n",
            "\n",
            "    Iris-setosa       1.00      1.00      1.00        10\n",
            "Iris-versicolor       0.91      0.91      0.91        11\n",
            " Iris-virginica       0.89      0.89      0.89         9\n",
            "\n",
            "       accuracy                           0.93        30\n",
            "      macro avg       0.93      0.93      0.93        30\n",
            "   weighted avg       0.93      0.93      0.93        30\n",
            "\n"
          ]
        }
      ]
    },
    {
      "cell_type": "markdown",
      "metadata": {
        "id": "gfBARcujGu1C"
      },
      "source": [
        "##Comparing Error Rate with the K Value"
      ]
    },
    {
      "cell_type": "code",
      "metadata": {
        "id": "9kH8hH_DGTA4"
      },
      "source": [
        "error = []\n",
        "\n",
        "# Calculating error for K values between 1 and 40\n",
        "for i in range(1, 40):\n",
        "    knn = KNeighborsClassifier(n_neighbors=i)\n",
        "    knn.fit(X_train, y_train)\n",
        "    pred_i = knn.predict(X_test)\n",
        "    error.append(np.mean(pred_i != y_test))"
      ],
      "execution_count": 53,
      "outputs": []
    },
    {
      "cell_type": "markdown",
      "metadata": {
        "id": "eHNuwFRzHHGY"
      },
      "source": [
        "we will plot the mean error for the predicted values of test set for all the K values between 1 and 40."
      ]
    },
    {
      "cell_type": "markdown",
      "metadata": {
        "id": "Ct98MKs8HLrU"
      },
      "source": [
        "The above script executes a loop from 1 to 40. In each iteration the mean error for predicted values of test set is calculated and the result is appended to the error list."
      ]
    },
    {
      "cell_type": "markdown",
      "metadata": {
        "id": "iXCk5l9NHOQ1"
      },
      "source": [
        "The next step is to plot the error values against K values. Execute the following script to create the plot:"
      ]
    },
    {
      "cell_type": "code",
      "metadata": {
        "colab": {
          "base_uri": "https://localhost:8080/",
          "height": 422
        },
        "id": "cAiZZ4lQHHxw",
        "outputId": "ae32eb83-b6e7-4fac-f842-6c1af7857f68"
      },
      "source": [
        "plt.figure(figsize=(12, 6))\n",
        "plt.plot(range(1, 40), error, color='red', linestyle='dashed', marker='o',\n",
        "         markerfacecolor='blue', markersize=10)\n",
        "plt.title('Error Rate K Value')\n",
        "plt.xlabel('K Value')\n",
        "plt.ylabel('Mean Error')"
      ],
      "execution_count": 54,
      "outputs": [
        {
          "output_type": "execute_result",
          "data": {
            "text/plain": [
              "Text(0, 0.5, 'Mean Error')"
            ]
          },
          "metadata": {},
          "execution_count": 54
        },
        {
          "output_type": "display_data",
          "data": {
            "image/png": "[encoded data removed]",
            "text/plain": [
              "<Figure size 864x432 with 1 Axes>"
            ]
          },
          "metadata": {
            "needs_background": "light"
          }
        }
      ]
    },
    {
      "cell_type": "code",
      "metadata": {
        "id": "g2ctVlBqHQ0j"
      },
      "source": [
        ""
      ],
      "execution_count": 54,
      "outputs": []
    }
  ]
}